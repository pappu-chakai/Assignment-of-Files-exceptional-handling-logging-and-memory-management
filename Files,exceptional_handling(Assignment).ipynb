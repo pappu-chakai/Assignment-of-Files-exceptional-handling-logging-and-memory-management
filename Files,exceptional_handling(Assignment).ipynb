{
  "nbformat": 4,
  "nbformat_minor": 0,
  "metadata": {
    "colab": {
      "provenance": []
    },
    "kernelspec": {
      "name": "python3",
      "display_name": "Python 3"
    },
    "language_info": {
      "name": "python"
    }
  },
  "cells": [
    {
      "cell_type": "markdown",
      "source": [
        "Theoritical Quations"
      ],
      "metadata": {
        "id": "g8qdyfBAerMC"
      }
    },
    {
      "cell_type": "markdown",
      "source": [
        "Q1. What is the difference between interpreted and compiled languages?\n",
        "\n",
        "ANS:- (Interpreted language)\n",
        "      1. Interpreted languages: The code is converted into machine code each  \n",
        "         time the program is run.\n",
        "      2. Flexibility: Interpreted languages are more flexible and often offer\n",
        "         features like dynamic typing and smaller program size.\n",
        "      3. Platform independence: The code itself is platform independent because\n",
        "         interpreters execute the source program code themselves.\n",
        "      4. There is only one step to get from source code to execution.\n",
        "      5. This language example delivers relatively slower performance.\n",
        "\n",
        "\n",
        "\n",
        "      (Compiled language)\n",
        "      1. Compiled languages: The code is converted into machine code once,\n",
        "         before the program is run.\n",
        "      2. Performance: Compiled code is optimized for the target machine, so it\n",
        "         runs faster.\n",
        "      3. Security: The source code is transformed into a more   difficult-to-reverse-engineer format.\n",
        "      4. Distribution: The built executable can be executed without the source\n",
        "         code.\n",
        "      5. There are at least two steps to get from source code to execution.\n",
        "      6. This language delivers better performance."
      ],
      "metadata": {
        "id": "0JBLINquBL1W"
      }
    },
    {
      "cell_type": "markdown",
      "source": [
        "Q2. What is exception handling in Python?\n",
        "\n",
        "ANS:-Exception handling in Python is a technique for managing errors that occur\n",
        "     while a program is running. It allows you to respond to errors instead of the program crashing. This makes your code more user-friendly and robust."
      ],
      "metadata": {
        "id": "FNj-d4tmEn46"
      }
    },
    {
      "cell_type": "markdown",
      "source": [
        "Q3. What is the purpose of the finally block in exception handling?\n",
        "\n",
        "ANS:- The purpose of a finally block in exception handling is to ensure that\n",
        "      important code is executed regardless of whether an exception is thrown. This code is often used for resource cleanup, such as closing files or database connections.\n",
        "\n",
        "      Explanation\n",
        "      1. A finally block always executes when the try block exits.\n",
        "      2. This means that the finally block will run even if an exception is     thrown, or if the catch statement is missing.\n",
        "      3. The finally block is a good practice to use even when no exceptions  \n",
        "         are expected.\n",
        "      4. It prevents cleanup code from being accidentally skipped by a return,\n",
        "        continue, or break statement.\n",
        "      5. The finally block can also be used to log diagnostic messages or  \n",
        "         update an audit trail."
      ],
      "metadata": {
        "id": "wROcz1tRFWLO"
      }
    },
    {
      "cell_type": "markdown",
      "source": [
        "Q4. What is logging in Python?\n",
        "\n",
        "ANS:-Python logging is a module that allows you to track events that occur  \n",
        "     while your program is running. You can use logging to record information about errors, warnings, and other events that occur during program execution. And logging is a useful tool for debugging, troubleshooting, and monitoring your program."
      ],
      "metadata": {
        "id": "27cYIp_oHaut"
      }
    },
    {
      "cell_type": "markdown",
      "source": [
        "Q5. What is the significance of the __del__ method in Python?\n",
        "\n",
        "ANS:- __del__ is a finalizer. It is called when an object is garbage collected\n",
        "      which happens at some point after all references to the object have been deleted. In a simple case this could be right after you say del x or, if x is a local variable, after the function ends."
      ],
      "metadata": {
        "id": "GCIGf8dpISv1"
      }
    },
    {
      "cell_type": "markdown",
      "source": [
        "Q6. What is the difference between import and from ... import in Python?\n",
        "\n",
        "ANS:- (import)\n",
        "      import module`:\n",
        "      Behavior: Using `import module` brings the entire module into your script. However, to access a particular function or class within that module, you’d need to prefix it with the module’s name.\n",
        "\n",
        "      Advantage: This method provides clear context in the code about where a particular function or class originates, making the code more readable. It’s easier to discern that a certain function or class belongs to a specific module.\n",
        "\n",
        "       Example: If the module named `tools` contains a function named `hammer()`, you would call it as `tools.hammer()` after importing the module.\n",
        "\n",
        "       (from import)\n",
        "       from module import:\n",
        "       Behavior: This statement imports all public functions, classes, and variables defined in the module directly into the script’s namespace. This means you can use them without prefixing them with the module’s name.\n",
        "\n",
        "       Advantage: It provides a shortcut to access all functionalities without the need for prefixes.\n",
        "\n",
        "       Drawback: This method can lead to confusion, especially in larger scripts or when multiple modules are imported this way. There’s a risk of name clashes, where functions or variables from the module may overwrite existing names in your script or vice versa. Furthermore, it makes the code less readable since it’s harder to identify the origin of a function or a class.\n",
        "\n",
        "       Note: Many Python developers recommend against using `from module import ` because of these drawbacks. It’s often better to be explicit about what you’re importing."
      ],
      "metadata": {
        "id": "oMTz7NDWIlJn"
      }
    },
    {
      "cell_type": "markdown",
      "source": [
        "Q7. How can you handle multiple exceptions in Python?\n",
        "\n",
        "ANS:- you can handle multiple exceptions using a try-except block and a single\n",
        "      except clause. You can group exceptions in a tuple to catch them all in one place.\n",
        "\n",
        "      How to handle multiple exceptions\n",
        "     1. Use a try-except statement to check for exceptions\n",
        "     2. Group multiple exceptions in a tuple in the except clause\n",
        "     3. The code in the except block will run if any of the exceptions occur\n"
      ],
      "metadata": {
        "id": "2VQyMMDNNFTx"
      }
    },
    {
      "cell_type": "markdown",
      "source": [
        "Q8. What is the purpose of the with statement when handling files in Python?\n",
        "\n",
        "ANS:- The with statement in Python is used to simplify the management of\n",
        "      resources such as file streams, network connections, and locks. It ensures that resources are properly acquired and released, avoiding common issues such as resource leaks."
      ],
      "metadata": {
        "id": "W9fy8Jo5NiuD"
      }
    },
    {
      "cell_type": "markdown",
      "source": [
        "Q9. What is the difference between multithreading and multiprocessing?\n",
        "\n",
        "ANS:- The main difference is that multithreading uses a single processor with\n",
        "      multiple threads, while multiprocessing uses multiple processors.\n",
        "\n",
        "      Multithreading\n",
        "      1. Uses a single processor to run multiple threads\n",
        "      2. Each thread runs a process\n",
        "      3. Threads share resources within a single process\n",
        "      4. Good for I/O bound tasks\n",
        "      5. Quick to create and requires few resources\n",
        "\n",
        "      Multiprocessing\n",
        "      1. Uses multiple processors to run multiple processes\n",
        "      2. Each processor can run one or more threads\n",
        "      3. Processes have their own dedicated resources\n",
        "      4. Good for CPU bound tasks\n",
        "      5. Requires a significant amount of time and specific resources to create"
      ],
      "metadata": {
        "id": "n2IZ6nA3OQSq"
      }
    },
    {
      "cell_type": "markdown",
      "source": [
        "Q10. What are the advantages of using logging in a program?\n",
        "\n",
        "ANS:- Log data can be beneficial for pinpointing the root cause when problems\n",
        "      occur within an application. For instance, when the system throws an exception, helpful information such as the full stack trace is typically recorded in the application's error log."
      ],
      "metadata": {
        "id": "7kTUNSWzPBlw"
      }
    },
    {
      "cell_type": "markdown",
      "source": [
        "Q11. What is memory management in Python?\n",
        "\n",
        "ANS:- Memory management in Python is the process of allocating and freeing up\n",
        "      memory for programs to run efficiently. Python automatically manages memory, which includes allocating and deallocating memory."
      ],
      "metadata": {
        "id": "tktdEf3yQXDR"
      }
    },
    {
      "cell_type": "markdown",
      "source": [
        "Q12. What are the basic steps involved in exception handling in Python?\n",
        "\n",
        "ANS:- the basic steps for exception handling involve using a \"try\" block to\n",
        "      identify code that might raise an exception, an \"except\" block to handle the exception if it occurs, and optionally, an \"else\" block to execute code if no exception is raised, and a \"finally\" block to run code regardless of whether an exception occurs.\n",
        "\n",
        "      Key components:\n",
        "      1. \"try\" block: Contains the code that might potentially raise an       exception.\n",
        "      2. \"except\" block: Executes if an exception is raised within the \"try\"\n",
        "          block.\n",
        "      3. \"else\" block (optional): Executes only if no exception is raised  \n",
        "         within the \"try\" block.\n",
        "      4. \"finally\" block (optional): Always executes, even if an exception\n",
        "         occurs, often used for cleanup tasks like closing files."
      ],
      "metadata": {
        "id": "34PHRRCwRAJy"
      }
    },
    {
      "cell_type": "markdown",
      "source": [
        "Q13. Why is memory management important in Python?\n",
        "\n",
        "ANS:- Memory management in Python is important because it helps programs run\n",
        "      efficiently and prevents memory leaks. Memory management is the process of allocating and freeing memory for a program to use.\n",
        "\n",
        "      Why is memory management important?\n",
        "      1. Efficient code: Writing memory-efficient code can help programs run\n",
        "         faster and use fewer resources.\n",
        "      2. Avoids memory leaks: Memory leaks occur when used memory isn't freed,  causing RAM usage to increase over time.\n",
        "      3. Optimizes resource usage: Memory management helps programs access\n",
        "         system resources more efficiently."
      ],
      "metadata": {
        "id": "MPztZQnuRu5_"
      }
    },
    {
      "cell_type": "markdown",
      "source": [
        "Q14. What is the role of try and except in exception handling?\n",
        "\n",
        "ANS:- exception handling, \"try\" and \"except\" are used to define a block of code\n",
        "      where potential errors might occur (\"try\"), and a separate block to handle those errors if they arise (\"except\"), allowing your program to continue execution gracefully even when an exception is thrown, rather than crashing abruptly; essentially, \"try\" attempts to execute code that might raise an error, and \"except\" catches and handles that error if it does occur."
      ],
      "metadata": {
        "id": "cvQrqfnuSQQJ"
      }
    },
    {
      "cell_type": "markdown",
      "source": [
        "Q15. How does Python's garbage collection system work?\n",
        "\n",
        "ANS:- Python's garbage collection (GC) is a system that automatically finds and\n",
        "     removes objects that are no longer in use. This process frees up memory for new objects.\n",
        "\n",
        "     How it works\n",
        "     1. Reference counting\n",
        "        Keeps track of how many references an object has. When an object's reference count reaches zero, the GC removes it from memory.\n",
        "     2. Generational garbage collection\n",
        "        Divides memory into generations, with new objects in the youngest generation. If an object survives a garbage collection cycle, it moves to the next generation.\n",
        "     3. Mark-and-sweep\n",
        "        An algorithm that identifies which objects are reachable and which are not.\n",
        "     4. Cyclic garbage collection\n",
        "        Finds circular reference objects and removes orphan objects."
      ],
      "metadata": {
        "id": "ibpzt_cISmK9"
      }
    },
    {
      "cell_type": "markdown",
      "source": [
        "Q16. What is the purpose of the else block in exception handling?\n",
        "\n",
        "ANS:- The purpose of the else block in exception handling is to execute code\n",
        "      when no exceptions occur in the try block. It's useful for performing specific actions when the try block succeeds.\n",
        "\n",
        "      Explanation\n",
        "      1. The try block tests a block of code for errors.\n",
        "      2. The except block handles errors that occur in the try block.\n",
        "      3. The else block executes code if no errors occur in the try block.\n",
        "      4. The finally block executes code regardless of whether an exception\n",
        "        occurred or not."
      ],
      "metadata": {
        "id": "gduMr0fOTQ3j"
      }
    },
    {
      "cell_type": "markdown",
      "source": [
        "Q17. What are the common logging levels in Python?\n",
        "\n",
        "ANS:- 1. Notset = 0: This is the initial default setting of a log when it is\n",
        "         created. ...\n",
        "      2. Debug = 10: This level gives detailed information, useful only when a\n",
        "         problem is being diagnosed.\n",
        "      3. Info = 20: This is used to confirm that everything is working as it\n",
        "         should.\n",
        "\n",
        "\n",
        "Logging Levels\n",
        "      Level                \tNumeric value\n",
        "      logging.INFO\t             20\n",
        "      logging.WARNING            30\n",
        "      logging.ERROR\t             40\n",
        "      logging.CRITICAL\t         50"
      ],
      "metadata": {
        "id": "kkhC_uv3T5kX"
      }
    },
    {
      "cell_type": "markdown",
      "source": [
        "Q18. What is the difference between os.fork() and multiprocessing in Python?\n",
        "\n",
        "ANS:-\n",
        "      os.fork():\n",
        "      1. Low-level system call.\n",
        "      2. Creates a copy of the parent process.\n",
        "      3. More fine-grained control, but can be more complex.\n",
        "      4. Available only on Unix-like systems.\n",
        "\n",
        "      multiprocessing:\n",
        "      1. Higher-level module in Python.\n",
        "      2. Built on top of os.fork() (or similar mechanisms on other platforms\n",
        "      3. Easier to use for parallel processing.\n",
        "      4. Better for CPU-bound tasks.\n",
        "      5. Creates new processes avoiding the GIL issues.\n",
        "      6. Cross-platform support (Windows, macOS, Linux)."
      ],
      "metadata": {
        "id": "yAuH6TVHU1p8"
      }
    },
    {
      "cell_type": "markdown",
      "source": [
        "Q19. What is the importance of closing a file in Python?\n",
        "\n",
        "ANS:- Closing a file after use is important because it frees up system  \n",
        "      resources that are being used by the file. When a file is open, the operating system allocates memory and other resources to the file, which can potentially impact the performance of the system if too many files are open at the same time."
      ],
      "metadata": {
        "id": "O0qjC7g4VvPy"
      }
    },
    {
      "cell_type": "markdown",
      "source": [
        "Q20. What is the difference between file.read() and file.readline() in Python?\n",
        "\n",
        "ANS:- file.read()\n",
        "      1. the `read()` method is used to read a specified number of characters\n",
        "         from a file or input stream.\n",
        "      2. The `read()` method will read the entire content of the file or stream\n",
        "         if no argument is provided, returning a string.\n",
        "      3. The `read()` method will read the entire content of the file or stream\n",
        "         if no argument is provided, returning a string.\n",
        "      4. The read() function reads the entire file and returns it as a string.  You can also specify a number of bytes to read. Explanation: The readline() function reads one line at a time from the file.\n",
        "\n",
        "\n",
        "     readline()\n",
        "     1. the `readline()` method is used to read a single line from a file input\n",
        "         stream.\n",
        "     2. readline() that will read and print out only the first characters that\n",
        "        take up as many bytes as you specify in the parenthesis.\n",
        "     3. the `readline()` method reads a single line up to the newline character\n",
        "        (`\\n`) and returns it as a string. If there are no more lines to read, it will return an empty string.\n",
        "     4. This readlines ( ) function is mostly suitable for small-sized files,\n",
        "        containing fewer data to read the whole file within less time easily.\n",
        "     5. It is very useful in reducing the time complexity while reading a file\n",
        "        using the brute force approach and using loops and different iterations."
      ],
      "metadata": {
        "id": "TondRPgjWFyV"
      }
    },
    {
      "cell_type": "markdown",
      "source": [
        "Q21. What is the logging module in Python used for?\n",
        "\n",
        "ANS:- The \"logging\" module in Python is used to record and track events that\n",
        "      occur within a program, allowing developers to monitor the execution flow, debug issues, and gather information about errors, warnings, or other significant happenings by writing messages to log files or the console, providing valuable insights into application behavior.\n",
        "\n",
        "      Key points about the logging module:\n",
        "      Structured logging:\n",
        "      It provides a structured way to manage log messages with different levels of severity (like DEBUG, INFO, WARNING, ERROR, CRITICAL) to filter and prioritize information.\n",
        "\n",
        "      Customizable handlers:\n",
        "      You can configure where to send log messages, such as to a file, standard output, network socket, or a custom handler.\n",
        "\n",
        "      Flexibility:\n",
        "      The logging module allows for fine-grained control over log formatting and can be easily adapted to different logging needs within a project."
      ],
      "metadata": {
        "id": "7BXEvhX2ZxHb"
      }
    },
    {
      "cell_type": "markdown",
      "source": [
        "Q22. What is the os module in Python used for in file handling?\n",
        "\n",
        "ANS:- The Python OS module is essential for file-related tasks, enabling\n",
        "      efficient file and directory management in programs. It allows you to easily handle the current working directory, create and delete directories, list files and folders, and perform file operations.\n",
        "\n",
        "      The OS module in Python provides functions for interacting with the operating system. OS comes under Python’s standard utility modules. This module provides a portable way of using operating system-dependent functionality.\n",
        "\n",
        "     The *os* and *os.path* modules include many functions to interact with the file system."
      ],
      "metadata": {
        "id": "83uYx0pwcBVB"
      }
    },
    {
      "cell_type": "markdown",
      "source": [
        "Q23. What are the challenges associated with memory management in Python?\n",
        "\n",
        "ANS:- The primary challenge with memory management in Python is dealing with\n",
        "      potential memory leaks caused by circular references, where objects reference each other, preventing the garbage collector from reclaiming their memory, along with the limited ability to manually control memory allocation compared to other languages, which can sometimes lead to less optimal performance in specific scenarios; however, Python's automatic garbage collection system generally handles memory management effectively for most use cases.\n",
        "\n",
        "      Key challenges related to Python memory management:\n",
        "      Circular references:\n",
        "      When objects form a circular dependency, the garbage collector cannot identify them as unused and may not reclaim their memory, leading to memory leaks.\n",
        "\n",
        "     Limited manual control:\n",
        "     Unlike languages like C++, Python's memory management is primarily handled by the garbage collector, which means developers have less direct control over memory allocation and deallocation, potentially impacting performance in specific situations.\n",
        "\n",
        "     Generational garbage collection overhead:\n",
        "     While effective, the generational garbage collection system used by Python can introduce some overhead, especially when dealing with large numbers of short-lived objects.\n",
        "\n",
        "     Identifying memory leaks:\n",
        "     Debugging memory leaks can be challenging as it requires careful analysis of object references and potential circular dependencies in the code.\n",
        "\n",
        "     Large data structures:\n",
        "     When working with very large datasets, managing memory efficiently becomes crucial to avoid memory exhaustion, especially when using data structures like lists or dictionaries."
      ],
      "metadata": {
        "id": "8eLBW6BSc1G1"
      }
    },
    {
      "cell_type": "markdown",
      "source": [
        "Q24. How do you raise an exception manually in Python?\n",
        "\n",
        "ANS:-As a Python developer you can choose to throw an exception if a condition\n",
        "     occurs. To throw (or raise) an exception, use the raise keyword.\n",
        "     The raise statement in Python is used to raise an exception. Try-except blocks can be used to manage exceptions, which are errors that happen while a programme is running. When an exception is triggered, the programme goes to the closest exception handler, interrupting the regular flow of execution.\n",
        "\n",
        "    1. The raise keyword is typically used inside a function or method, and is\n",
        "       used to indicate an error condition.\n",
        "    2. We can throw an exception and immediately halt the running of your\n",
        "       programme by using the raise keyword.\n",
        "    3. Python looks for the closest exception handler, which is often defined\n",
        "       using a try-except block, when an exception is triggered."
      ],
      "metadata": {
        "id": "CMFC18A1ddUp"
      }
    },
    {
      "cell_type": "markdown",
      "source": [
        "Q25.  Why is it important to use multithreading in certain applications?\n",
        "\n",
        "ANS:- Multithreading is important in certain applications because it allows\n",
        "      multiple tasks to execute seemingly simultaneously, improving the overall responsiveness and performance of an application by efficiently utilizing the available CPU cores, especially when dealing with tasks that involve waiting for input/output operations (like network requests) where a single thread could otherwise be idle during these waits."
      ],
      "metadata": {
        "id": "0tIDWcAreO7H"
      }
    },
    {
      "cell_type": "markdown",
      "source": [
        "Practical questions"
      ],
      "metadata": {
        "id": "UZ7qH9_Ge1Bp"
      }
    },
    {
      "cell_type": "markdown",
      "source": [
        "Q1. How can you open a file for writing in Python and write a string to it?"
      ],
      "metadata": {
        "id": "bFZarGlBfDHp"
      }
    },
    {
      "cell_type": "code",
      "source": [
        "def write_string_to_file(filepath, text):\n",
        "    \"\"\"Opens a file for writing and writes a string to it.\n",
        "\n",
        "    Args:\n",
        "        filepath: The path to the file.\n",
        "        text: The string to write to the file.\n",
        "    \"\"\"\n",
        "    try:\n",
        "        with open(filepath, 'w') as file:\n",
        "            file.write(text)\n",
        "    except Exception as e:\n",
        "        print(f\"An error occurred: {e}\")\n",
        "\n",
        "\n",
        "file_path = 'my_file.txt'\n",
        "my_string = \"This is the string I want to write to the file.\"\n",
        "write_string_to_file(file_path, my_string)"
      ],
      "metadata": {
        "id": "Ev1z7VwCfLzp"
      },
      "execution_count": null,
      "outputs": []
    },
    {
      "cell_type": "markdown",
      "source": [
        "Q2. Write a Python program to read the contents of a file and print each line."
      ],
      "metadata": {
        "id": "GxdVY4e_w4IW"
      }
    },
    {
      "cell_type": "code",
      "source": [
        "def print_file_contents(filepath):\n",
        "    \"\"\"Reads a file and prints each line.\n",
        "\n",
        "    Args:\n",
        "        filepath: The path to the file.\n",
        "    \"\"\"\n",
        "    try:\n",
        "        with open(filepath, 'r') as file:\n",
        "            for line in file:\n",
        "                print(line, end='')\n",
        "    except FileNotFoundError:\n",
        "        print(f\"Error: File '{filepath}' not found.\")\n",
        "    except Exception as e:\n",
        "        print(f\"An error occurred: {e}\")\n",
        "\n",
        "\n",
        "file_path = 'filename.txt'\n",
        "print_file_contents(file_path)"
      ],
      "metadata": {
        "colab": {
          "base_uri": "https://localhost:8080/"
        },
        "id": "r1S8iSe2xB-S",
        "outputId": "ebcc2535-2f7b-4d08-c4b4-067e45142dab"
      },
      "execution_count": 1,
      "outputs": [
        {
          "output_type": "stream",
          "name": "stdout",
          "text": [
            "Error: File 'filename.txt' not found.\n"
          ]
        }
      ]
    },
    {
      "cell_type": "markdown",
      "source": [
        "Q3.  How would you handle a case where the file doesn't exist while trying to open it for reading?"
      ],
      "metadata": {
        "id": "w4qpa07cyGCV"
      }
    },
    {
      "cell_type": "code",
      "source": [
        "def print_file_contents(filepath):\n",
        "    \"\"\"Reads a file and prints each line, handling file not found errors.\n",
        "\n",
        "    Args:\n",
        "        filepath: The path to the file.\n",
        "    \"\"\"\n",
        "    try:\n",
        "        with open(filepath, 'r') as file:\n",
        "            for line in file:\n",
        "                print(line, end='')\n",
        "    except FileNotFoundError:\n",
        "        print(f\"Error: File '{filepath}' not found.\")\n",
        "    except Exception as e:\n",
        "        print(f\"An error occurred: {e}\")\n",
        "\n",
        "\n",
        "file_path = 'filename.txt'\n",
        "print_file_contents(file_path)"
      ],
      "metadata": {
        "colab": {
          "base_uri": "https://localhost:8080/"
        },
        "id": "Y05XDSkqyNuZ",
        "outputId": "d8dea908-49c4-4285-9c9b-e8bba250d718"
      },
      "execution_count": 2,
      "outputs": [
        {
          "output_type": "stream",
          "name": "stdout",
          "text": [
            "Error: File 'filename.txt' not found.\n"
          ]
        }
      ]
    },
    {
      "cell_type": "markdown",
      "source": [
        "Q4. Write a Python script that reads from one file and writes its content to another file."
      ],
      "metadata": {
        "id": "rfl-qWm1yr9y"
      }
    },
    {
      "cell_type": "code",
      "source": [
        "def copy_file_contents(source_filepath, destination_filepath):\n",
        "    \"\"\"Reads from one file and writes its content to another file.\n",
        "\n",
        "    Args:\n",
        "        source_filepath: The path to the source file.\n",
        "        destination_filepath: The path to the destination file.\n",
        "    \"\"\"\n",
        "    try:\n",
        "        with open(source_filepath, 'r') as source_file:\n",
        "            with open(destination_filepath, 'w') as destination_file:\n",
        "                for line in source_file:\n",
        "                    destination_file.write(line)\n",
        "    except FileNotFoundError:\n",
        "        print(f\"Error: Source file '{source_filepath}' not found.\")\n",
        "    except Exception as e:\n",
        "        print(f\"An error occurred: {e}\")\n",
        "\n",
        "\n",
        "source_file = 'source.txt'\n",
        "destination_file = 'destination.txt'\n",
        "copy_file_contents(source_file, destination_file)"
      ],
      "metadata": {
        "colab": {
          "base_uri": "https://localhost:8080/"
        },
        "id": "8MqrjZurzPqQ",
        "outputId": "9b991625-e244-4f5c-e3e5-5a958a528e93"
      },
      "execution_count": 4,
      "outputs": [
        {
          "output_type": "stream",
          "name": "stdout",
          "text": [
            "Error: Source file 'source.txt' not found.\n"
          ]
        }
      ]
    },
    {
      "cell_type": "markdown",
      "source": [
        "Q5. How would you catch and handle division by zero error in Python?"
      ],
      "metadata": {
        "id": "b5yJfPhazb-d"
      }
    },
    {
      "cell_type": "code",
      "source": [
        "def safe_division(numerator, denominator):\n",
        "    \"\"\"Performs division, handling potential ZeroDivisionError.\n",
        "\n",
        "    Args:\n",
        "        numerator: The numerator.\n",
        "        denominator: The denominator.\n",
        "\n",
        "    Returns:\n",
        "        The result of the division if successful, or an error message if a ZeroDivisionError occurs.\n",
        "    \"\"\"\n",
        "    try:\n",
        "        result = numerator / denominator\n",
        "        return result\n",
        "    except ZeroDivisionError:\n",
        "        return \"Error: Division by zero is not allowed.\"\n",
        "\n",
        "\n",
        "numerator = 10\n",
        "denominator = 0\n",
        "\n",
        "result = safe_division(numerator, denominator)\n",
        "result"
      ],
      "metadata": {
        "colab": {
          "base_uri": "https://localhost:8080/",
          "height": 35
        },
        "id": "woaQFSfZzkpJ",
        "outputId": "e00c48c4-fbc6-4147-9444-bf0062442ed2"
      },
      "execution_count": 5,
      "outputs": [
        {
          "output_type": "execute_result",
          "data": {
            "text/plain": [
              "'Error: Division by zero is not allowed.'"
            ],
            "application/vnd.google.colaboratory.intrinsic+json": {
              "type": "string"
            }
          },
          "metadata": {},
          "execution_count": 5
        }
      ]
    },
    {
      "cell_type": "markdown",
      "source": [
        "Q6. Write a Python program that logs an error message to a log file when a division by zero exception occurs."
      ],
      "metadata": {
        "id": "8lGP10yhz_GF"
      }
    },
    {
      "cell_type": "code",
      "source": [
        "import logging\n",
        "\n",
        "def safe_division(numerator, denominator):\n",
        "    \"\"\"Performs division, handling potential ZeroDivisionError and logging to a file.\n",
        "\n",
        "    Args:\n",
        "        numerator: The numerator.\n",
        "        denominator: The denominator.\n",
        "\n",
        "    Returns:\n",
        "        The result of the division if successful, or None if a ZeroDivisionError occurs.\n",
        "    \"\"\"\n",
        "    try:\n",
        "        result = numerator / denominator\n",
        "        return result\n",
        "    except ZeroDivisionError:\n",
        "\n",
        "        logging.basicConfig(filename='error.log', level=logging.ERROR,\n",
        "                            format='%(asctime)s - %(levelname)s - %(message)s')\n",
        "        logging.error(\"Division by zero occurred.\")\n",
        "        return None\n",
        "\n",
        "\n",
        "numerator = 10\n",
        "denominator = 0\n",
        "\n",
        "result = safe_division(numerator, denominator)\n",
        "\n",
        "if result is not None:\n",
        "    print(f\"Result: {result}\")"
      ],
      "metadata": {
        "colab": {
          "base_uri": "https://localhost:8080/"
        },
        "id": "rhYw5tku0Ly5",
        "outputId": "a016c609-b112-467a-989c-d95d508c8eb9"
      },
      "execution_count": 6,
      "outputs": [
        {
          "output_type": "stream",
          "name": "stderr",
          "text": [
            "ERROR:root:Division by zero occurred.\n"
          ]
        }
      ]
    },
    {
      "cell_type": "markdown",
      "source": [
        "Q7. How do you log information at different levels (INFO, ERROR, WARNING) in Python using the logging module?"
      ],
      "metadata": {
        "id": "l9XI7EpV0WNL"
      }
    },
    {
      "cell_type": "code",
      "source": [
        "import logging\n",
        "\n",
        "logging.basicConfig(level=logging.DEBUG,\n",
        "                    format='%(asctime)s - %(name)s - %(levelname)s - %(message)s',\n",
        "                    filename='my_app.log',\n",
        "                    filemode='w')\n",
        "\n",
        "\n",
        "\n",
        "logger = logging.getLogger(__name__)\n",
        "\n",
        "\n",
        "logger.debug(\"This is a debug message.\")\n",
        "logger.info(\"This is an informational message.\")\n",
        "logger.warning(\"This is a warning message.\")\n",
        "logger.error(\"This is an error message.\")\n",
        "logger.critical(\"This is a critical message.\")\n",
        "\n",
        "\n",
        "\n",
        "try:\n",
        "    result = 10 / 0\n",
        "except ZeroDivisionError as e:\n",
        "    logger.exception(\"An exception occurred:\")"
      ],
      "metadata": {
        "colab": {
          "base_uri": "https://localhost:8080/"
        },
        "id": "YXwZdH2e0kwI",
        "outputId": "db1388b0-111d-4dfc-8eed-e04fdcdbf46e"
      },
      "execution_count": 7,
      "outputs": [
        {
          "output_type": "stream",
          "name": "stderr",
          "text": [
            "WARNING:__main__:This is a warning message.\n",
            "ERROR:__main__:This is an error message.\n",
            "CRITICAL:__main__:This is a critical message.\n",
            "ERROR:__main__:An exception occurred:\n",
            "Traceback (most recent call last):\n",
            "  File \"<ipython-input-7-509afdfe0163>\", line 22, in <cell line: 0>\n",
            "    result = 10 / 0\n",
            "             ~~~^~~\n",
            "ZeroDivisionError: division by zero\n"
          ]
        }
      ]
    },
    {
      "cell_type": "markdown",
      "source": [
        "Q8. Write a program to handle a file opening error using exception handling."
      ],
      "metadata": {
        "id": "sEHTQDlc1AlV"
      }
    },
    {
      "cell_type": "code",
      "source": [
        "import logging\n",
        "\n",
        "def handle_file_opening_error(filepath):\n",
        "    \"\"\"Handles file opening errors using exception handling.\n",
        "\n",
        "    Args:\n",
        "      filepath: The path to the file.\n",
        "    \"\"\"\n",
        "    try:\n",
        "        with open(filepath, 'r') as file:\n",
        "\n",
        "            contents = file.read()\n",
        "            print(f\"File contents:\\n{contents}\")\n",
        "    except FileNotFoundError:\n",
        "        print(f\"Error: File '{filepath}' not found.\")\n",
        "        logging.error(f\"File not found: {filepath}\")\n",
        "    except PermissionError:\n",
        "        print(f\"Error: Permission denied when accessing '{filepath}'.\")\n",
        "        logging.error(f\"Permission denied: {filepath}\")\n",
        "    except Exception as e:\n",
        "        print(f\"An unexpected error occurred: {e}\")\n",
        "        logging.exception(\"An unexpected error occurred:\")\n",
        "\n",
        "\n",
        "logging.basicConfig(filename='file_handling_errors.log', level=logging.ERROR,\n",
        "                    format='%(asctime)s - %(levelname)s - %(message)s')\n",
        "\n",
        "\n",
        "file_path = \"non_existent_file.txt\"\n",
        "handle_file_opening_error(file_path)"
      ],
      "metadata": {
        "colab": {
          "base_uri": "https://localhost:8080/"
        },
        "id": "QsKin5gl1GVr",
        "outputId": "876677e0-756b-42ba-d33d-0a0f793d10f8"
      },
      "execution_count": 8,
      "outputs": [
        {
          "output_type": "stream",
          "name": "stderr",
          "text": [
            "ERROR:root:File not found: non_existent_file.txt\n"
          ]
        },
        {
          "output_type": "stream",
          "name": "stdout",
          "text": [
            "Error: File 'non_existent_file.txt' not found.\n"
          ]
        }
      ]
    },
    {
      "cell_type": "markdown",
      "source": [
        "Q9. How can you read a file line by line and store its content in a list in Python?"
      ],
      "metadata": {
        "id": "g0N9EoWI1akr"
      }
    },
    {
      "cell_type": "code",
      "source": [
        "def read_file_into_list(filepath):\n",
        "    \"\"\"Reads a file line by line and stores its content in a list.\n",
        "\n",
        "    Args:\n",
        "        filepath: The path to the file.\n",
        "\n",
        "    Returns:\n",
        "        A list of strings, where each string is a line from the file.\n",
        "        Returns an empty list if the file is not found or an error occurs.\n",
        "    \"\"\"\n",
        "    try:\n",
        "        with open(filepath, 'r') as file:\n",
        "            lines = file.readlines()\n",
        "            return lines\n",
        "    except FileNotFoundError:\n",
        "        print(f\"Error: File '{filepath}' not found.\")\n",
        "        return []\n",
        "    except Exception as e:\n",
        "        print(f\"An error occurred: {e}\")\n",
        "        return []\n",
        "\n",
        "file_path = 'filename.txt'\n",
        "lines = read_file_into_list(file_path)\n",
        "\n",
        "if lines:\n",
        "    print(\"File contents (line by line):\")\n",
        "    for line in lines:\n",
        "        print(line, end='')"
      ],
      "metadata": {
        "colab": {
          "base_uri": "https://localhost:8080/"
        },
        "id": "KUMth4yR1hDB",
        "outputId": "73d62c29-6943-4755-852d-5ec39f883c09"
      },
      "execution_count": 9,
      "outputs": [
        {
          "output_type": "stream",
          "name": "stdout",
          "text": [
            "Error: File 'filename.txt' not found.\n"
          ]
        }
      ]
    },
    {
      "cell_type": "markdown",
      "source": [
        "Q10.  How can you append data to an existing file in Python?"
      ],
      "metadata": {
        "id": "khp6fUpf1vgL"
      }
    },
    {
      "cell_type": "code",
      "source": [
        "def append_to_file(filepath, text):\n",
        "    \"\"\"Appends data to an existing file.\n",
        "\n",
        "    Args:\n",
        "        filepath: The path to the file.\n",
        "        text: The text to append.\n",
        "    \"\"\"\n",
        "    try:\n",
        "        with open(filepath, 'a') as file:\n",
        "            file.write(text)\n",
        "    except FileNotFoundError:\n",
        "        print(f\"Error: File '{filepath}' not found.\")\n",
        "    except Exception as e:\n",
        "        print(f\"An error occurred: {e}\")\n",
        "\n",
        "\n",
        "file_path = 'my_file.txt'\n",
        "text_to_append = \"\\nThis is some new text to append to the file.\"\n",
        "append_to_file(file_path, text_to_append)"
      ],
      "metadata": {
        "id": "tsjmDmab13J7"
      },
      "execution_count": 10,
      "outputs": []
    },
    {
      "cell_type": "markdown",
      "source": [
        "Q11. Write a Python program that uses a try-except block to handle an error when attempting to access a\n",
        "dictionary key that doesn't exist."
      ],
      "metadata": {
        "id": "oF67XqNy2K3m"
      }
    },
    {
      "cell_type": "code",
      "source": [
        "def access_dictionary_key(my_dict, key):\n",
        "    \"\"\"Accesses a dictionary key, handling KeyError exceptions.\n",
        "\n",
        "    Args:\n",
        "        my_dict: The dictionary.\n",
        "        key: The key to access.\n",
        "\n",
        "    Returns:\n",
        "        The value associated with the key if it exists, or None if the key is not found.\n",
        "    \"\"\"\n",
        "    try:\n",
        "        value = my_dict[key]\n",
        "        return value\n",
        "    except KeyError:\n",
        "        print(f\"Error: Key '{key}' not found in the dictionary.\")\n",
        "        return None\n",
        "\n",
        "\n",
        "my_dictionary = {\"a\": 1, \"b\": 2, \"c\": 3}\n",
        "\n",
        "key_to_access = \"d\"\n",
        "\n",
        "value = access_dictionary_key(my_dictionary, key_to_access)\n",
        "\n",
        "if value is not None:\n",
        "    print(f\"Value for key '{key_to_access}': {value}\")\n",
        "\n",
        "key_to_access = \"b\"\n",
        "value = access_dictionary_key(my_dictionary, key_to_access)\n",
        "\n",
        "if value is not None:\n",
        "    print(f\"Value for key '{key_to_access}': {value}\")"
      ],
      "metadata": {
        "colab": {
          "base_uri": "https://localhost:8080/"
        },
        "id": "LTl-2ayw2U3h",
        "outputId": "242c8523-adcf-4879-dc7d-7f9faa2beb86"
      },
      "execution_count": 11,
      "outputs": [
        {
          "output_type": "stream",
          "name": "stdout",
          "text": [
            "Error: Key 'd' not found in the dictionary.\n",
            "Value for key 'b': 2\n"
          ]
        }
      ]
    },
    {
      "cell_type": "markdown",
      "source": [
        "Q12. Write a program that demonstrates using multiple except blocks to handle different types of exceptions."
      ],
      "metadata": {
        "id": "vVRKI_GB2mrI"
      }
    },
    {
      "cell_type": "code",
      "source": [
        "def handle_multiple_exceptions():\n",
        "    \"\"\"Demonstrates handling multiple exception types.\"\"\"\n",
        "    try:\n",
        "\n",
        "        result = 10 / 0\n",
        "\n",
        "    except ZeroDivisionError:\n",
        "        print(\"Error: Division by zero occurred.\")\n",
        "    except IndexError:\n",
        "        print(\"Error: List index out of range.\")\n",
        "    except FileNotFoundError:\n",
        "        print(\"Error: File not found.\")\n",
        "    except Exception as e:\n",
        "        print(f\"An unexpected error occurred: {e}\")\n",
        "    else:\n",
        "        print(f\"The result is: {result}\")\n",
        "    finally:\n",
        "        print(\"This block always executes.\")\n",
        "\n",
        "handle_multiple_exceptions()"
      ],
      "metadata": {
        "colab": {
          "base_uri": "https://localhost:8080/"
        },
        "id": "nsc6V4Mh24aw",
        "outputId": "009bf5b0-0d90-4d15-a945-75500f5c9aef"
      },
      "execution_count": 13,
      "outputs": [
        {
          "output_type": "stream",
          "name": "stdout",
          "text": [
            "Error: Division by zero occurred.\n",
            "This block always executes.\n"
          ]
        }
      ]
    },
    {
      "cell_type": "markdown",
      "source": [
        "Q13. How would you check if a file exists before attempting to read it in Python?"
      ],
      "metadata": {
        "id": "duzEw--d3ODQ"
      }
    },
    {
      "cell_type": "code",
      "source": [
        "import os\n",
        "\n",
        "def read_file_if_exists(filepath):\n",
        "    \"\"\"Reads a file if it exists, otherwise prints a message.\n",
        "\n",
        "    Args:\n",
        "        filepath: The path to the file.\n",
        "    \"\"\"\n",
        "    if os.path.exists(filepath):\n",
        "        try:\n",
        "            with open(filepath, 'r') as file:\n",
        "                contents = file.read()\n",
        "                print(contents)\n",
        "        except Exception as e:\n",
        "            print(f\"An error occurred while reading the file: {e}\")\n",
        "    else:\n",
        "        print(f\"Error: File '{filepath}' not found.\")\n",
        "\n",
        "\n",
        "file_path = 'my_file.txt'\n",
        "read_file_if_exists(file_path)"
      ],
      "metadata": {
        "colab": {
          "base_uri": "https://localhost:8080/"
        },
        "id": "oK7g92OW3U6e",
        "outputId": "b856255c-11f2-4665-8f7b-036eb41e1b96"
      },
      "execution_count": 14,
      "outputs": [
        {
          "output_type": "stream",
          "name": "stdout",
          "text": [
            "\n",
            "This is some new text to append to the file.\n"
          ]
        }
      ]
    },
    {
      "cell_type": "markdown",
      "source": [
        "Q14. Write a program that uses the logging module to log both informational and error messages."
      ],
      "metadata": {
        "id": "UOeBBuGo3jv4"
      }
    },
    {
      "cell_type": "code",
      "source": [
        "import logging\n",
        "\n",
        "def my_function():\n",
        "    logging.basicConfig(filename='my_log.log', level=logging.INFO,\n",
        "                        format='%(asctime)s - %(levelname)s - %(message)s')\n",
        "\n",
        "    logging.info(\"This is an informational message.\")\n",
        "\n",
        "    try:\n",
        "        result = 10 / 0\n",
        "    except ZeroDivisionError:\n",
        "        logging.error(\"Division by zero error occurred.\")\n",
        "\n",
        "my_function()"
      ],
      "metadata": {
        "colab": {
          "base_uri": "https://localhost:8080/"
        },
        "id": "tblmopii31C8",
        "outputId": "7894ac04-bd29-412c-81c8-e6fe15a80da6"
      },
      "execution_count": 16,
      "outputs": [
        {
          "output_type": "stream",
          "name": "stderr",
          "text": [
            "ERROR:root:Division by zero error occurred.\n"
          ]
        }
      ]
    },
    {
      "cell_type": "markdown",
      "source": [
        "Q15. Write a Python program that prints the content of a file and handles the case when the file is empty."
      ],
      "metadata": {
        "id": "2C8AKsjv4Lb9"
      }
    },
    {
      "cell_type": "code",
      "source": [
        "import os\n",
        "\n",
        "def print_file_content(filepath):\n",
        "    \"\"\"Prints the content of a file, handling empty files.\n",
        "\n",
        "    Args:\n",
        "        filepath: The path to the file.\n",
        "    \"\"\"\n",
        "    try:\n",
        "        with open(filepath, 'r') as file:\n",
        "            contents = file.read()\n",
        "            if contents:\n",
        "                print(contents)\n",
        "            else:\n",
        "                print(\"The file is empty.\")\n",
        "    except FileNotFoundError:\n",
        "        print(f\"Error: File '{filepath}' not found.\")\n",
        "    except Exception as e:\n",
        "        print(f\"An error occurred: {e}\")\n",
        "\n",
        "\n",
        "file_path = 'filename.txt'\n",
        "print_file_content(file_path)"
      ],
      "metadata": {
        "colab": {
          "base_uri": "https://localhost:8080/"
        },
        "id": "RDMnTGLz4SQt",
        "outputId": "769537d7-2403-4ae8-a7d8-7666e0d7514e"
      },
      "execution_count": 17,
      "outputs": [
        {
          "output_type": "stream",
          "name": "stdout",
          "text": [
            "Error: File 'filename.txt' not found.\n"
          ]
        }
      ]
    },
    {
      "cell_type": "markdown",
      "source": [
        "Q16.  Demonstrate how to use memory profiling to check the memory usage of a small program."
      ],
      "metadata": {
        "id": "lxTfP48N4e2T"
      }
    },
    {
      "cell_type": "code",
      "source": [
        "!pip install memory_profiler\n",
        "\n",
        "import os\n",
        "import logging\n",
        "from memory_profiler import profile\n",
        "\n",
        "@profile\n",
        "def my_memory_intensive_function():\n",
        "\n",
        "    my_large_list = list(range(1000000))\n",
        "\n",
        "    sum_of_elements = sum(my_large_list)\n",
        "\n",
        "    my_large_list = my_large_list * 2\n",
        "\n",
        "    logging.basicConfig(filename=\"memory.log\", level=logging.DEBUG,\n",
        "                        format='%(asctime)s - %(levelname)s - %(message)s')\n",
        "    logging.debug(\"List length: \" + str(len(my_large_list)))\n",
        "\n",
        "if __name__ == '__main__':\n",
        "    my_memory_intensive_function()"
      ],
      "metadata": {
        "colab": {
          "base_uri": "https://localhost:8080/"
        },
        "id": "4bt-36Wr9rX7",
        "outputId": "03eed3e3-ea7d-4671-cb39-5d4b1ce22855"
      },
      "execution_count": 33,
      "outputs": [
        {
          "output_type": "stream",
          "name": "stdout",
          "text": [
            "Requirement already satisfied: memory_profiler in /usr/local/lib/python3.11/dist-packages (0.61.0)\n",
            "Requirement already satisfied: psutil in /usr/local/lib/python3.11/dist-packages (from memory_profiler) (5.9.5)\n"
          ]
        },
        {
          "output_type": "stream",
          "name": "stderr",
          "text": [
            "\n",
            "PYDEV DEBUGGER WARNING:\n",
            "sys.settrace() should not be used when the debugger is being used.\n",
            "This may cause the debugger to stop working correctly.\n",
            "If this is needed, please check: \n",
            "http://pydev.blogspot.com/2007/06/why-cant-pydev-debugger-work-with.html\n",
            "to see how to restore the debug tracing back correctly.\n",
            "Call Location:\n",
            "  File \"/usr/local/lib/python3.11/dist-packages/memory_profiler.py\", line 847, in enable\n",
            "    sys.settrace(self.trace_memory_usage)\n",
            "\n",
            "\n",
            "PYDEV DEBUGGER WARNING:\n",
            "sys.settrace() should not be used when the debugger is being used.\n",
            "This may cause the debugger to stop working correctly.\n",
            "If this is needed, please check: \n",
            "http://pydev.blogspot.com/2007/06/why-cant-pydev-debugger-work-with.html\n",
            "to see how to restore the debug tracing back correctly.\n",
            "Call Location:\n",
            "  File \"/usr/local/lib/python3.11/dist-packages/memory_profiler.py\", line 850, in disable\n",
            "    sys.settrace(self._original_trace_function)\n",
            "\n"
          ]
        },
        {
          "output_type": "stream",
          "name": "stdout",
          "text": [
            "ERROR: Could not find file <ipython-input-33-3069e72b81cb>\n",
            "NOTE: %mprun can only be used on functions defined in physical files, and not in the IPython environment.\n"
          ]
        }
      ]
    },
    {
      "cell_type": "markdown",
      "source": [
        "Q17. Write a Python program to create and write a list of numbers to a file, one number per line."
      ],
      "metadata": {
        "id": "05KqAczJ6dVa"
      }
    },
    {
      "cell_type": "code",
      "source": [
        "def write_numbers_to_file(filepath, numbers):\n",
        "    \"\"\"Writes a list of numbers to a file, one number per line.\n",
        "\n",
        "    Args:\n",
        "        filepath: The path to the file.\n",
        "        numbers: A list of numbers.\n",
        "    \"\"\"\n",
        "    try:\n",
        "        with open(filepath, 'w') as file:\n",
        "            for number in numbers:\n",
        "                file.write(str(number) + '\\n')\n",
        "        print(f\"Numbers written to '{filepath}' successfully.\")\n",
        "    except Exception as e:\n",
        "        print(f\"An error occurred: {e}\")\n",
        "\n",
        "file_path = 'numbers.txt'\n",
        "my_numbers = [1, 2, 3, 4, 5, 6, 7, 8, 9, 10]\n",
        "write_numbers_to_file(file_path, my_numbers)"
      ],
      "metadata": {
        "colab": {
          "base_uri": "https://localhost:8080/"
        },
        "id": "axsXoPeT6jT5",
        "outputId": "1511c860-0373-4d11-9669-598433171147"
      },
      "execution_count": 24,
      "outputs": [
        {
          "output_type": "stream",
          "name": "stdout",
          "text": [
            "Numbers written to 'numbers.txt' successfully.\n"
          ]
        }
      ]
    },
    {
      "cell_type": "markdown",
      "source": [
        "Q18. How would you implement a basic logging setup that logs to a file with rotation after 1MB?"
      ],
      "metadata": {
        "id": "-bfPXni26w0b"
      }
    },
    {
      "cell_type": "code",
      "source": [
        "import logging\n",
        "from logging.handlers import RotatingFileHandler\n",
        "\n",
        "def setup_rotating_log(log_file, max_bytes=1024*1024): # 1MB\n",
        "    \"\"\"Sets up a rotating log handler.\n",
        "\n",
        "    Args:\n",
        "        log_file: Path to the log file.\n",
        "        max_bytes: Maximum size of the log file in bytes before rotation.\n",
        "    \"\"\"\n",
        "    formatter = logging.Formatter('%(asctime)s - %(name)s - %(levelname)s - %(message)s')\n",
        "\n",
        "    handler = RotatingFileHandler(log_file, maxBytes=max_bytes, backupCount=5)\n",
        "    handler.setFormatter(formatter)\n",
        "\n",
        "    logger = logging.getLogger()\n",
        "    logger.addHandler(handler)\n",
        "    logger.setLevel(logging.INFO)\n",
        "\n",
        "\n",
        "\n",
        "setup_rotating_log('my_app.log')\n",
        "\n",
        "\n",
        "logging.info(\"This is a test log message.\")\n",
        "logging.warning(\"This is a warning.\")"
      ],
      "metadata": {
        "colab": {
          "base_uri": "https://localhost:8080/"
        },
        "id": "a0N_7EsI6--4",
        "outputId": "0d24e289-78dc-4d60-d1d7-1968ddbd2c71"
      },
      "execution_count": 25,
      "outputs": [
        {
          "output_type": "stream",
          "name": "stderr",
          "text": [
            "INFO:root:This is a test log message.\n",
            "WARNING:root:This is a warning.\n"
          ]
        }
      ]
    },
    {
      "cell_type": "markdown",
      "source": [
        "Q19. Write a program that handles both IndexError and KeyError using a try-except block."
      ],
      "metadata": {
        "id": "GXcGdJy-7Oj2"
      }
    },
    {
      "cell_type": "code",
      "source": [
        "def handle_index_key_errors(data_structure, index_or_key):\n",
        "    \"\"\"Handles IndexError and KeyError exceptions.\n",
        "\n",
        "    Args:\n",
        "        data_structure: The data structure (list or dictionary).\n",
        "        index_or_key: The index or key to access.\n",
        "    \"\"\"\n",
        "    try:\n",
        "        if isinstance(data_structure, list):\n",
        "            value = data_structure[index_or_key]\n",
        "        elif isinstance(data_structure, dict):\n",
        "            value = data_structure[index_or_key]\n",
        "        else:\n",
        "            print(\"Unsupported data structure.\")\n",
        "            return\n",
        "\n",
        "        print(\"Value:\", value)\n",
        "    except IndexError:\n",
        "        print(\"Error: Index out of range.\")\n",
        "    except KeyError:\n",
        "        print(\"Error: Key not found.\")\n",
        "    except TypeError:\n",
        "      print(\"Error: Invalid index or key type.\")\n",
        "\n",
        "\n",
        "my_list = [10, 20, 30]\n",
        "my_dict = {\"a\": 1, \"b\": 2, \"c\": 3}\n",
        "\n",
        "handle_index_key_errors(my_list, 2)\n",
        "handle_index_key_errors(my_list, 5)\n",
        "\n",
        "handle_index_key_errors(my_dict, \"b\")\n",
        "handle_index_key_errors(my_dict, \"z\")\n",
        "\n",
        "handle_index_key_errors(my_list, \"a\")"
      ],
      "metadata": {
        "colab": {
          "base_uri": "https://localhost:8080/"
        },
        "id": "d27odW3h7a2x",
        "outputId": "e1e4fadd-4cc1-4792-a6d4-8b074d2a2036"
      },
      "execution_count": 26,
      "outputs": [
        {
          "output_type": "stream",
          "name": "stdout",
          "text": [
            "Value: 30\n",
            "Error: Index out of range.\n",
            "Value: 2\n",
            "Error: Key not found.\n",
            "Error: Invalid index or key type.\n"
          ]
        }
      ]
    },
    {
      "cell_type": "markdown",
      "source": [
        "Q20. How would you open a file and read its contents using a context manager in Python?"
      ],
      "metadata": {
        "id": "3Gm48Ejl7m-p"
      }
    },
    {
      "cell_type": "code",
      "source": [
        "def read_file_with_context_manager(filepath):\n",
        "    \"\"\"Reads a file's contents using a context manager.\n",
        "\n",
        "    Args:\n",
        "        filepath: The path to the file.\n",
        "\n",
        "    Returns:\n",
        "        The file's contents as a string, or None if an error occurs.\n",
        "    \"\"\"\n",
        "    try:\n",
        "        with open(filepath, 'r') as file:\n",
        "            contents = file.read()\n",
        "            return contents\n",
        "    except FileNotFoundError:\n",
        "        print(f\"Error: File '{filepath}' not found.\")\n",
        "        return None\n",
        "    except Exception as e:\n",
        "        print(f\"An error occurred: {e}\")\n",
        "        return None\n",
        "\n",
        "file_path = 'filename.txt'\n",
        "file_contents = read_file_with_context_manager(file_path)\n",
        "\n",
        "if file_contents:\n",
        "    file_contents"
      ],
      "metadata": {
        "colab": {
          "base_uri": "https://localhost:8080/"
        },
        "id": "In2t8uU679fl",
        "outputId": "41496c57-7bb3-4a43-fd0f-fabb94ca9e63"
      },
      "execution_count": 28,
      "outputs": [
        {
          "output_type": "stream",
          "name": "stdout",
          "text": [
            "Error: File 'filename.txt' not found.\n"
          ]
        }
      ]
    },
    {
      "cell_type": "markdown",
      "source": [
        "Q21.  Write a Python program that reads a file and prints the number of occurrences of a specific word."
      ],
      "metadata": {
        "id": "G4w63rLp8Rcr"
      }
    },
    {
      "cell_type": "code",
      "source": [
        "def count_word_occurrences(filepath, target_word):\n",
        "    \"\"\"Reads a file and counts the occurrences of a specific word.\n",
        "\n",
        "    Args:\n",
        "        filepath: The path to the file.\n",
        "        target_word: The word to count.\n",
        "\n",
        "    Returns:\n",
        "        The number of occurrences of the target word in the file.\n",
        "        Returns -1 if the file is not found or an error occurs.\n",
        "    \"\"\"\n",
        "    try:\n",
        "        with open(filepath, 'r') as file:\n",
        "            contents = file.read()\n",
        "            words = contents.lower().split()\n",
        "            count = words.count(target_word.lower())\n",
        "            return count\n",
        "    except FileNotFoundError:\n",
        "        print(f\"Error: File '{filepath}' not found.\")\n",
        "        return -1\n",
        "    except Exception as e:\n",
        "        print(f\"An error occurred: {e}\")\n",
        "        return -1\n",
        "\n",
        "\n",
        "file_path = 'filename.txt'\n",
        "word_to_find = \"Python\"\n",
        "occurrences = count_word_occurrences(file_path, word_to_find)\n",
        "\n",
        "if occurrences != -1:\n",
        "    print(f\"The word '{word_to_find}' appears {occurrences} times in the file.\")"
      ],
      "metadata": {
        "colab": {
          "base_uri": "https://localhost:8080/"
        },
        "id": "PesDZCwR8XXF",
        "outputId": "2265862c-9cf4-4b6b-edfe-78ba228c72b6"
      },
      "execution_count": 29,
      "outputs": [
        {
          "output_type": "stream",
          "name": "stdout",
          "text": [
            "Error: File 'filename.txt' not found.\n"
          ]
        }
      ]
    },
    {
      "cell_type": "markdown",
      "source": [
        "Q22. How can you check if a file is empty before attempting to read its contents?"
      ],
      "metadata": {
        "id": "aiYntO8R8nhC"
      }
    },
    {
      "cell_type": "code",
      "source": [
        "import os\n",
        "\n",
        "def read_non_empty_file(filepath):\n",
        "    \"\"\"Reads a file's contents if it's not empty.\n",
        "\n",
        "    Args:\n",
        "        filepath: The path to the file.\n",
        "\n",
        "    Returns:\n",
        "        The file's contents as a string if the file exists and is not empty,\n",
        "        or None otherwise.\n",
        "    \"\"\"\n",
        "    if os.path.exists(filepath):\n",
        "\n",
        "        if os.stat(filepath).st_size == 0:\n",
        "            print(f\"Warning: File '{filepath}' is empty.\")\n",
        "            return None\n",
        "        try:\n",
        "            with open(filepath, 'r') as file:\n",
        "                contents = file.read()\n",
        "                return contents\n",
        "        except Exception as e:\n",
        "            print(f\"An error occurred while reading the file: {e}\")\n",
        "            return None\n",
        "    else:\n",
        "        print(f\"Error: File '{filepath}' not found.\")\n",
        "        return None\n",
        "\n",
        "\n",
        "file_path = 'filename.txt'\n",
        "contents = read_non_empty_file(file_path)\n",
        "\n",
        "if contents:\n",
        "    contents"
      ],
      "metadata": {
        "colab": {
          "base_uri": "https://localhost:8080/"
        },
        "id": "yNzVB_p78sat",
        "outputId": "59a9b41a-def9-4f66-e424-2c5448fa68ca"
      },
      "execution_count": 30,
      "outputs": [
        {
          "output_type": "stream",
          "name": "stdout",
          "text": [
            "Error: File 'filename.txt' not found.\n"
          ]
        }
      ]
    },
    {
      "cell_type": "markdown",
      "source": [
        "Q23. Write a Python program that writes to a log file when an error occurs during file handling."
      ],
      "metadata": {
        "id": "4sce74hE9Bf-"
      }
    },
    {
      "cell_type": "code",
      "source": [
        "def file_handling_with_logging(filepath, mode='r'):\n",
        "    \"\"\"Handles file operations with logging for errors.\n",
        "\n",
        "    Args:\n",
        "        filepath: The path to the file.\n",
        "        mode: The file mode ('r' for reading, 'w' for writing, etc.).\n",
        "    \"\"\"\n",
        "    logging.basicConfig(filename='file_handling.log', level=logging.ERROR,\n",
        "                        format='%(asctime)s - %(levelname)s - %(message)s')\n",
        "\n",
        "    try:\n",
        "        with open(filepath, mode) as file:\n",
        "\n",
        "            if mode == 'r':\n",
        "                contents = file.read()\n",
        "                print(contents)\n",
        "            elif mode == 'w':\n",
        "                file.write(\"This is a test string.\")\n",
        "    except FileNotFoundError:\n",
        "        logging.error(f\"File '{filepath}' not found.\")\n",
        "    except PermissionError:\n",
        "        logging.error(f\"Permission denied when accessing '{filepath}'.\")\n",
        "    except Exception as e:\n",
        "        logging.exception(f\"An unexpected error occurred: {e}\")\n",
        "\n",
        "file_path = 'my_file.txt'\n",
        "file_handling_with_logging(file_path, mode='w')\n",
        "file_handling_with_logging('nonexistent_file.txt')\n",
        "file_handling_with_logging(file_path)"
      ],
      "metadata": {
        "colab": {
          "base_uri": "https://localhost:8080/"
        },
        "id": "Syu6pfRH9EFL",
        "outputId": "b5793e40-3581-4cc2-c497-6ef76c99decf"
      },
      "execution_count": 31,
      "outputs": [
        {
          "output_type": "stream",
          "name": "stderr",
          "text": [
            "ERROR:root:File 'nonexistent_file.txt' not found.\n"
          ]
        },
        {
          "output_type": "stream",
          "name": "stdout",
          "text": [
            "This is a test string.\n"
          ]
        }
      ]
    },
    {
      "cell_type": "code",
      "source": [],
      "metadata": {
        "id": "tJGdQQYM9SZZ"
      },
      "execution_count": null,
      "outputs": []
    }
  ]
}